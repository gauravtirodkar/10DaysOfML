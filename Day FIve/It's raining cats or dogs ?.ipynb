{
 "cells": [
  {
   "cell_type": "code",
   "execution_count": 1,
   "metadata": {},
   "outputs": [],
   "source": [
    "import tensorflow as tf\n",
    "import os\n",
    "import seaborn as sns\n",
    "import matplotlib.pyplot as plt\n",
    "from tensorflow.keras.preprocessing.image import ImageDataGenerator\n",
    "from tensorflow.keras.optimizers import RMSprop, Adam, SGD, Adagrad, Adadelta"
   ]
  },
  {
   "cell_type": "code",
   "execution_count": 2,
   "metadata": {},
   "outputs": [],
   "source": [
    "main_dir = 'cats_and_dogs_filtered'\n",
    "train_dir = os.path.join(main_dir,'train')\n",
    "validation_dir = os.path.join(main_dir,'validation')"
   ]
  },
  {
   "cell_type": "code",
   "execution_count": 3,
   "metadata": {},
   "outputs": [],
   "source": [
    "train_cats_dir = os.path.join(train_dir,'cats')\n",
    "train_dogs_dir = os.path.join(train_dir,'dogs')\n",
    "validation_cats_dir = os.path.join(validation_dir,'cats')\n",
    "validation_dogs_dir = os.path.join(validation_dir,'dogs')"
   ]
  },
  {
   "cell_type": "code",
   "execution_count": 4,
   "metadata": {},
   "outputs": [],
   "source": [
    "train_datagen = ImageDataGenerator(\n",
    "                    rescale = 1./255,\n",
    "                    rotation_range = 40,\n",
    "                    width_shift_range = 0.2,\n",
    "                    height_shift_range = 0.2,\n",
    "                    shear_range = 0.2,\n",
    "                    zoom_range = 0.2,\n",
    "                    horizontal_flip = True,\n",
    "                    fill_mode = 'nearest')"
   ]
  },
  {
   "cell_type": "code",
   "execution_count": 5,
   "metadata": {
    "scrolled": true
   },
   "outputs": [],
   "source": [
    "test_datagen = ImageDataGenerator(rescale = 1./255)"
   ]
  },
  {
   "cell_type": "code",
   "execution_count": 6,
   "metadata": {},
   "outputs": [
    {
     "name": "stdout",
     "output_type": "stream",
     "text": [
      "Found 2000 images belonging to 2 classes.\n"
     ]
    }
   ],
   "source": [
    "train_generator = train_datagen.flow_from_directory(\n",
    "                    train_dir,\n",
    "                    target_size = (150,150),\n",
    "                    batch_size = 20,\n",
    "                    class_mode = 'binary')"
   ]
  },
  {
   "cell_type": "code",
   "execution_count": 7,
   "metadata": {},
   "outputs": [
    {
     "name": "stdout",
     "output_type": "stream",
     "text": [
      "Found 1000 images belonging to 2 classes.\n"
     ]
    }
   ],
   "source": [
    "validation_generator = test_datagen.flow_from_directory(\n",
    "                    validation_dir,\n",
    "                    target_size=(150,150),\n",
    "                    batch_size = 20,\n",
    "                    class_mode='binary')"
   ]
  },
  {
   "cell_type": "markdown",
   "metadata": {},
   "source": [
    "## Building the CNN model"
   ]
  },
  {
   "cell_type": "code",
   "execution_count": 8,
   "metadata": {},
   "outputs": [],
   "source": [
    "model = tf.keras.models.Sequential([\n",
    "    tf.keras.layers.Conv2D(32,(3,3),activation='relu',input_shape=(150,150,3)),\n",
    "    tf.keras.layers.MaxPooling2D(2,2),\n",
    "    tf.keras.layers.Conv2D(64,(3,3),activation = 'relu'),\n",
    "    tf.keras.layers.MaxPooling2D(2,2),\n",
    "    tf.keras.layers.Conv2D(128,(3,3),activation = 'relu'),\n",
    "    tf.keras.layers.MaxPooling2D(2,2),\n",
    "    tf.keras.layers.Conv2D(128,(3,3),activation = 'relu'),\n",
    "    tf.keras.layers.MaxPooling2D(2,2),\n",
    "    tf.keras.layers.Flatten(),\n",
    "    tf.keras.layers.Dropout(0.2),\n",
    "    tf.keras.layers.Dense(256, activation = 'relu'),\n",
    "    tf.keras.layers.Dense(128, activation = 'relu'),\n",
    "    tf.keras.layers.Dense(1, activation = 'sigmoid')\n",
    "])"
   ]
  },
  {
   "cell_type": "code",
   "execution_count": 9,
   "metadata": {},
   "outputs": [],
   "source": [
    "model.compile(loss='binary_crossentropy',\n",
    "             optimizer = RMSprop(lr=1e-4),\n",
    "             metrics = ['acc'])"
   ]
  },
  {
   "cell_type": "code",
   "execution_count": 10,
   "metadata": {},
   "outputs": [
    {
     "name": "stdout",
     "output_type": "stream",
     "text": [
      "WARNING:tensorflow:From <ipython-input-10-f42bed6cef4c>:7: Model.fit_generator (from tensorflow.python.keras.engine.training) is deprecated and will be removed in a future version.\n",
      "Instructions for updating:\n",
      "Please use Model.fit, which supports generators.\n",
      "WARNING:tensorflow:sample_weight modes were coerced from\n",
      "  ...\n",
      "    to  \n",
      "  ['...']\n",
      "WARNING:tensorflow:sample_weight modes were coerced from\n",
      "  ...\n",
      "    to  \n",
      "  ['...']\n",
      "Train for 100 steps, validate for 10 steps\n",
      "Epoch 1/100\n",
      "100/100 [==============================] - 13s 128ms/step - loss: 0.6926 - acc: 0.5180 - val_loss: 0.6832 - val_acc: 0.6100\n",
      "Epoch 2/100\n",
      "100/100 [==============================] - 12s 119ms/step - loss: 0.6830 - acc: 0.5515 - val_loss: 0.7233 - val_acc: 0.5100\n",
      "Epoch 3/100\n",
      "100/100 [==============================] - 12s 117ms/step - loss: 0.6748 - acc: 0.5800 - val_loss: 0.6484 - val_acc: 0.6150\n",
      "Epoch 4/100\n",
      "100/100 [==============================] - 13s 128ms/step - loss: 0.6597 - acc: 0.5945 - val_loss: 0.6641 - val_acc: 0.5800\n",
      "Epoch 5/100\n",
      "100/100 [==============================] - 14s 143ms/step - loss: 0.6372 - acc: 0.6335 - val_loss: 0.5776 - val_acc: 0.6950\n",
      "Epoch 6/100\n",
      "100/100 [==============================] - 13s 131ms/step - loss: 0.6288 - acc: 0.6405 - val_loss: 0.5710 - val_acc: 0.7050\n",
      "Epoch 7/100\n",
      "100/100 [==============================] - 19s 187ms/step - loss: 0.6106 - acc: 0.6680 - val_loss: 0.5534 - val_acc: 0.7250\n",
      "Epoch 8/100\n",
      "100/100 [==============================] - 19s 194ms/step - loss: 0.5992 - acc: 0.6760 - val_loss: 0.5654 - val_acc: 0.6950\n",
      "Epoch 9/100\n",
      "100/100 [==============================] - 19s 188ms/step - loss: 0.5877 - acc: 0.6860 - val_loss: 0.5332 - val_acc: 0.7350\n",
      "Epoch 10/100\n",
      "100/100 [==============================] - 20s 196ms/step - loss: 0.5913 - acc: 0.6900 - val_loss: 0.5357 - val_acc: 0.7500\n",
      "Epoch 11/100\n",
      "100/100 [==============================] - 19s 191ms/step - loss: 0.5717 - acc: 0.6985 - val_loss: 0.5399 - val_acc: 0.7300\n",
      "Epoch 12/100\n",
      "100/100 [==============================] - 18s 184ms/step - loss: 0.5777 - acc: 0.6890 - val_loss: 0.5209 - val_acc: 0.7400\n",
      "Epoch 13/100\n",
      "100/100 [==============================] - 19s 186ms/step - loss: 0.5763 - acc: 0.7015 - val_loss: 0.5049 - val_acc: 0.7400\n",
      "Epoch 14/100\n",
      "100/100 [==============================] - 20s 204ms/step - loss: 0.5748 - acc: 0.6930 - val_loss: 0.4938 - val_acc: 0.7550\n",
      "Epoch 15/100\n",
      "100/100 [==============================] - 19s 193ms/step - loss: 0.5671 - acc: 0.7030 - val_loss: 0.5014 - val_acc: 0.7450\n",
      "Epoch 16/100\n",
      "100/100 [==============================] - 18s 181ms/step - loss: 0.5632 - acc: 0.7050 - val_loss: 0.4911 - val_acc: 0.7500\n",
      "Epoch 17/100\n",
      "100/100 [==============================] - 18s 183ms/step - loss: 0.5505 - acc: 0.7090 - val_loss: 0.5153 - val_acc: 0.6750\n",
      "Epoch 18/100\n",
      "100/100 [==============================] - 20s 198ms/step - loss: 0.5574 - acc: 0.7050 - val_loss: 0.4959 - val_acc: 0.7450\n",
      "Epoch 19/100\n",
      "100/100 [==============================] - 19s 193ms/step - loss: 0.5427 - acc: 0.7255 - val_loss: 0.4941 - val_acc: 0.7450\n",
      "Epoch 20/100\n",
      "100/100 [==============================] - 18s 183ms/step - loss: 0.5433 - acc: 0.7150 - val_loss: 0.5180 - val_acc: 0.7500\n",
      "Epoch 21/100\n",
      "100/100 [==============================] - 18s 183ms/step - loss: 0.5290 - acc: 0.7340 - val_loss: 0.5638 - val_acc: 0.6800\n",
      "Epoch 22/100\n",
      "100/100 [==============================] - 18s 181ms/step - loss: 0.5340 - acc: 0.7260 - val_loss: 0.4585 - val_acc: 0.7850\n",
      "Epoch 23/100\n",
      "100/100 [==============================] - 19s 192ms/step - loss: 0.5157 - acc: 0.7485 - val_loss: 0.5954 - val_acc: 0.6900\n",
      "Epoch 24/100\n",
      "100/100 [==============================] - 18s 185ms/step - loss: 0.5149 - acc: 0.7530 - val_loss: 0.4765 - val_acc: 0.7650\n",
      "Epoch 25/100\n",
      "100/100 [==============================] - 20s 199ms/step - loss: 0.5227 - acc: 0.7355 - val_loss: 0.4787 - val_acc: 0.7650\n",
      "Epoch 26/100\n",
      "100/100 [==============================] - 19s 188ms/step - loss: 0.5177 - acc: 0.7485 - val_loss: 0.4511 - val_acc: 0.7550\n",
      "Epoch 27/100\n",
      "100/100 [==============================] - 20s 195ms/step - loss: 0.5143 - acc: 0.7435 - val_loss: 0.4688 - val_acc: 0.7500\n",
      "Epoch 28/100\n",
      "100/100 [==============================] - 19s 194ms/step - loss: 0.5108 - acc: 0.7445 - val_loss: 0.4586 - val_acc: 0.7750\n",
      "Epoch 29/100\n",
      "100/100 [==============================] - 20s 195ms/step - loss: 0.5000 - acc: 0.7575 - val_loss: 0.4431 - val_acc: 0.7850\n",
      "Epoch 30/100\n",
      "100/100 [==============================] - 19s 187ms/step - loss: 0.5203 - acc: 0.7385 - val_loss: 0.4595 - val_acc: 0.7650\n",
      "Epoch 31/100\n",
      "100/100 [==============================] - 19s 189ms/step - loss: 0.5059 - acc: 0.7470 - val_loss: 0.4556 - val_acc: 0.7600\n",
      "Epoch 32/100\n",
      "100/100 [==============================] - 19s 192ms/step - loss: 0.4962 - acc: 0.7585 - val_loss: 0.4687 - val_acc: 0.7700\n",
      "Epoch 33/100\n",
      "100/100 [==============================] - 18s 183ms/step - loss: 0.5016 - acc: 0.7500 - val_loss: 0.5545 - val_acc: 0.7450\n",
      "Epoch 34/100\n",
      "100/100 [==============================] - 19s 186ms/step - loss: 0.4934 - acc: 0.7540 - val_loss: 0.4369 - val_acc: 0.7850\n",
      "Epoch 35/100\n",
      "100/100 [==============================] - 19s 193ms/step - loss: 0.4882 - acc: 0.7635 - val_loss: 0.4431 - val_acc: 0.7800\n",
      "Epoch 36/100\n",
      "100/100 [==============================] - 18s 183ms/step - loss: 0.4813 - acc: 0.7685 - val_loss: 0.4133 - val_acc: 0.8100\n",
      "Epoch 37/100\n",
      "100/100 [==============================] - 19s 188ms/step - loss: 0.4758 - acc: 0.7690 - val_loss: 0.4418 - val_acc: 0.7950\n",
      "Epoch 38/100\n",
      "100/100 [==============================] - 20s 196ms/step - loss: 0.4902 - acc: 0.7625 - val_loss: 0.4268 - val_acc: 0.8050\n",
      "Epoch 39/100\n",
      "100/100 [==============================] - 18s 183ms/step - loss: 0.4758 - acc: 0.7720 - val_loss: 0.4167 - val_acc: 0.8100\n",
      "Epoch 40/100\n",
      "100/100 [==============================] - 19s 188ms/step - loss: 0.4833 - acc: 0.7800 - val_loss: 0.4120 - val_acc: 0.8050\n",
      "Epoch 41/100\n",
      "100/100 [==============================] - 18s 180ms/step - loss: 0.4793 - acc: 0.7715 - val_loss: 0.4595 - val_acc: 0.7950\n",
      "Epoch 42/100\n",
      "100/100 [==============================] - 18s 180ms/step - loss: 0.4599 - acc: 0.7860 - val_loss: 0.4265 - val_acc: 0.8100\n",
      "Epoch 43/100\n",
      "100/100 [==============================] - 18s 180ms/step - loss: 0.4723 - acc: 0.7785 - val_loss: 0.4638 - val_acc: 0.8000\n",
      "Epoch 44/100\n",
      "100/100 [==============================] - 19s 190ms/step - loss: 0.4721 - acc: 0.7675 - val_loss: 0.4126 - val_acc: 0.8250\n",
      "Epoch 45/100\n",
      "100/100 [==============================] - 19s 186ms/step - loss: 0.4654 - acc: 0.7820 - val_loss: 0.4775 - val_acc: 0.7850\n",
      "Epoch 46/100\n",
      "100/100 [==============================] - 18s 178ms/step - loss: 0.4357 - acc: 0.7995 - val_loss: 0.3985 - val_acc: 0.8100\n",
      "Epoch 47/100\n",
      "100/100 [==============================] - 19s 191ms/step - loss: 0.4482 - acc: 0.7975 - val_loss: 0.4265 - val_acc: 0.7700\n",
      "Epoch 48/100\n",
      "100/100 [==============================] - 18s 182ms/step - loss: 0.4591 - acc: 0.7785 - val_loss: 0.4057 - val_acc: 0.8100\n",
      "Epoch 49/100\n",
      "100/100 [==============================] - 18s 178ms/step - loss: 0.4543 - acc: 0.7885 - val_loss: 0.4060 - val_acc: 0.7900\n",
      "Epoch 50/100\n",
      "100/100 [==============================] - 18s 184ms/step - loss: 0.4500 - acc: 0.7900 - val_loss: 0.4116 - val_acc: 0.8050\n",
      "Epoch 51/100\n",
      "100/100 [==============================] - 20s 198ms/step - loss: 0.4481 - acc: 0.7915 - val_loss: 0.3805 - val_acc: 0.8500\n",
      "Epoch 52/100\n",
      "100/100 [==============================] - 19s 190ms/step - loss: 0.4463 - acc: 0.7770 - val_loss: 0.3956 - val_acc: 0.8100\n",
      "Epoch 53/100\n",
      "100/100 [==============================] - 19s 190ms/step - loss: 0.4417 - acc: 0.7915 - val_loss: 0.4589 - val_acc: 0.7600\n",
      "Epoch 54/100\n",
      "100/100 [==============================] - 18s 184ms/step - loss: 0.4431 - acc: 0.7865 - val_loss: 0.4996 - val_acc: 0.7600\n",
      "Epoch 55/100\n",
      "100/100 [==============================] - 18s 182ms/step - loss: 0.4474 - acc: 0.7940 - val_loss: 0.3988 - val_acc: 0.8100\n",
      "Epoch 56/100\n",
      "100/100 [==============================] - 18s 180ms/step - loss: 0.4417 - acc: 0.7940 - val_loss: 0.4211 - val_acc: 0.8100\n",
      "Epoch 57/100\n"
     ]
    },
    {
     "name": "stdout",
     "output_type": "stream",
     "text": [
      "100/100 [==============================] - 18s 182ms/step - loss: 0.4284 - acc: 0.8075 - val_loss: 0.4405 - val_acc: 0.7800\n",
      "Epoch 58/100\n",
      "100/100 [==============================] - 18s 183ms/step - loss: 0.4274 - acc: 0.8010 - val_loss: 0.4058 - val_acc: 0.8200\n",
      "Epoch 59/100\n",
      "100/100 [==============================] - 18s 179ms/step - loss: 0.4277 - acc: 0.7930 - val_loss: 0.4632 - val_acc: 0.7850\n",
      "Epoch 60/100\n",
      "100/100 [==============================] - 18s 179ms/step - loss: 0.4345 - acc: 0.8020 - val_loss: 0.3976 - val_acc: 0.8150\n",
      "Epoch 61/100\n",
      "100/100 [==============================] - 18s 183ms/step - loss: 0.4117 - acc: 0.8070 - val_loss: 0.4710 - val_acc: 0.7950\n",
      "Epoch 62/100\n",
      "100/100 [==============================] - 20s 195ms/step - loss: 0.4233 - acc: 0.8045 - val_loss: 0.3989 - val_acc: 0.8050\n",
      "Epoch 63/100\n",
      "100/100 [==============================] - 18s 181ms/step - loss: 0.4198 - acc: 0.7990 - val_loss: 0.3964 - val_acc: 0.8300\n",
      "Epoch 64/100\n",
      "100/100 [==============================] - 19s 188ms/step - loss: 0.4195 - acc: 0.8050 - val_loss: 0.4379 - val_acc: 0.7900\n",
      "Epoch 65/100\n",
      "100/100 [==============================] - 18s 183ms/step - loss: 0.4060 - acc: 0.8140 - val_loss: 0.3906 - val_acc: 0.8250\n",
      "Epoch 66/100\n",
      "100/100 [==============================] - 18s 181ms/step - loss: 0.4157 - acc: 0.8015 - val_loss: 0.4670 - val_acc: 0.8100\n",
      "Epoch 67/100\n",
      "100/100 [==============================] - 20s 197ms/step - loss: 0.4198 - acc: 0.7975 - val_loss: 0.3902 - val_acc: 0.8200\n",
      "Epoch 68/100\n",
      "100/100 [==============================] - 19s 186ms/step - loss: 0.4165 - acc: 0.8090 - val_loss: 0.3811 - val_acc: 0.8200\n",
      "Epoch 69/100\n",
      "100/100 [==============================] - 18s 180ms/step - loss: 0.4025 - acc: 0.8225 - val_loss: 0.3635 - val_acc: 0.8350\n",
      "Epoch 70/100\n",
      "100/100 [==============================] - 19s 193ms/step - loss: 0.4052 - acc: 0.8165 - val_loss: 0.3681 - val_acc: 0.8200\n",
      "Epoch 71/100\n",
      "100/100 [==============================] - 19s 191ms/step - loss: 0.4036 - acc: 0.8180 - val_loss: 0.3824 - val_acc: 0.8350\n",
      "Epoch 72/100\n",
      "100/100 [==============================] - 18s 182ms/step - loss: 0.4003 - acc: 0.8140 - val_loss: 0.3837 - val_acc: 0.8150\n",
      "Epoch 73/100\n",
      "100/100 [==============================] - 19s 192ms/step - loss: 0.4052 - acc: 0.8115 - val_loss: 0.4428 - val_acc: 0.8150\n",
      "Epoch 74/100\n",
      "100/100 [==============================] - 19s 192ms/step - loss: 0.3892 - acc: 0.8250 - val_loss: 0.3819 - val_acc: 0.8300\n",
      "Epoch 75/100\n",
      "100/100 [==============================] - 19s 191ms/step - loss: 0.3942 - acc: 0.8135 - val_loss: 0.3853 - val_acc: 0.8150\n",
      "Epoch 76/100\n",
      "100/100 [==============================] - 20s 197ms/step - loss: 0.3829 - acc: 0.8290 - val_loss: 0.5073 - val_acc: 0.7700\n",
      "Epoch 77/100\n",
      "100/100 [==============================] - 19s 187ms/step - loss: 0.3986 - acc: 0.8135 - val_loss: 0.4162 - val_acc: 0.8200\n",
      "Epoch 78/100\n",
      "100/100 [==============================] - 20s 199ms/step - loss: 0.3908 - acc: 0.8305 - val_loss: 0.3701 - val_acc: 0.8300\n",
      "Epoch 79/100\n",
      "100/100 [==============================] - 20s 197ms/step - loss: 0.3815 - acc: 0.8310 - val_loss: 0.3653 - val_acc: 0.8400\n",
      "Epoch 80/100\n",
      "100/100 [==============================] - 19s 186ms/step - loss: 0.3884 - acc: 0.8285 - val_loss: 0.4139 - val_acc: 0.7900\n",
      "Epoch 81/100\n",
      "100/100 [==============================] - 19s 185ms/step - loss: 0.3911 - acc: 0.8330 - val_loss: 0.3570 - val_acc: 0.8400\n",
      "Epoch 82/100\n",
      "100/100 [==============================] - 18s 180ms/step - loss: 0.3745 - acc: 0.8300 - val_loss: 0.3800 - val_acc: 0.8550\n",
      "Epoch 83/100\n",
      "100/100 [==============================] - 20s 197ms/step - loss: 0.3788 - acc: 0.8275 - val_loss: 0.3364 - val_acc: 0.8450\n",
      "Epoch 84/100\n",
      "100/100 [==============================] - 19s 195ms/step - loss: 0.3835 - acc: 0.8270 - val_loss: 0.3789 - val_acc: 0.8150\n",
      "Epoch 85/100\n",
      "100/100 [==============================] - 19s 194ms/step - loss: 0.3753 - acc: 0.8205 - val_loss: 0.3667 - val_acc: 0.8400\n",
      "Epoch 86/100\n",
      "100/100 [==============================] - 18s 180ms/step - loss: 0.3846 - acc: 0.8285 - val_loss: 0.3415 - val_acc: 0.8400\n",
      "Epoch 87/100\n",
      "100/100 [==============================] - 18s 182ms/step - loss: 0.3720 - acc: 0.8370 - val_loss: 0.3910 - val_acc: 0.8600\n",
      "Epoch 88/100\n",
      "100/100 [==============================] - 19s 194ms/step - loss: 0.3692 - acc: 0.8405 - val_loss: 0.4061 - val_acc: 0.8150\n",
      "Epoch 89/100\n",
      "100/100 [==============================] - 20s 196ms/step - loss: 0.3582 - acc: 0.8410 - val_loss: 0.3890 - val_acc: 0.8100\n",
      "Epoch 90/100\n",
      "100/100 [==============================] - 19s 193ms/step - loss: 0.3552 - acc: 0.8430 - val_loss: 0.3530 - val_acc: 0.8350\n",
      "Epoch 91/100\n",
      "100/100 [==============================] - 18s 182ms/step - loss: 0.3626 - acc: 0.8425 - val_loss: 0.3480 - val_acc: 0.8500\n",
      "Epoch 92/100\n",
      "100/100 [==============================] - 18s 180ms/step - loss: 0.3671 - acc: 0.8465 - val_loss: 0.3587 - val_acc: 0.8250\n",
      "Epoch 93/100\n",
      "100/100 [==============================] - 18s 180ms/step - loss: 0.3649 - acc: 0.8410 - val_loss: 0.3691 - val_acc: 0.8200\n",
      "Epoch 94/100\n",
      "100/100 [==============================] - 18s 180ms/step - loss: 0.3518 - acc: 0.8415 - val_loss: 0.3856 - val_acc: 0.8350\n",
      "Epoch 95/100\n",
      "100/100 [==============================] - 18s 180ms/step - loss: 0.3458 - acc: 0.8420 - val_loss: 0.3229 - val_acc: 0.8600\n",
      "Epoch 96/100\n",
      "100/100 [==============================] - 18s 181ms/step - loss: 0.3502 - acc: 0.8460 - val_loss: 0.3568 - val_acc: 0.8300\n",
      "Epoch 97/100\n",
      "100/100 [==============================] - 18s 180ms/step - loss: 0.3338 - acc: 0.8580 - val_loss: 0.3515 - val_acc: 0.8500\n",
      "Epoch 98/100\n",
      "100/100 [==============================] - 20s 201ms/step - loss: 0.3410 - acc: 0.8435 - val_loss: 0.3512 - val_acc: 0.8550\n",
      "Epoch 99/100\n",
      "100/100 [==============================] - 18s 180ms/step - loss: 0.3545 - acc: 0.8420 - val_loss: 0.3634 - val_acc: 0.8350\n",
      "Epoch 100/100\n",
      "100/100 [==============================] - 18s 180ms/step - loss: 0.3315 - acc: 0.8590 - val_loss: 0.3194 - val_acc: 0.8700\n"
     ]
    }
   ],
   "source": [
    "history = model.fit_generator(\n",
    "    train_generator,\n",
    "    steps_per_epoch = 100,\n",
    "    epochs = 100,\n",
    "    validation_data = validation_generator,\n",
    "    validation_steps = 10,\n",
    "    verbose = 1)"
   ]
  },
  {
   "cell_type": "code",
   "execution_count": 11,
   "metadata": {},
   "outputs": [
    {
     "name": "stdout",
     "output_type": "stream",
     "text": [
      "Model: \"sequential\"\n",
      "_________________________________________________________________\n",
      "Layer (type)                 Output Shape              Param #   \n",
      "=================================================================\n",
      "conv2d (Conv2D)              (None, 148, 148, 32)      896       \n",
      "_________________________________________________________________\n",
      "max_pooling2d (MaxPooling2D) (None, 74, 74, 32)        0         \n",
      "_________________________________________________________________\n",
      "conv2d_1 (Conv2D)            (None, 72, 72, 64)        18496     \n",
      "_________________________________________________________________\n",
      "max_pooling2d_1 (MaxPooling2 (None, 36, 36, 64)        0         \n",
      "_________________________________________________________________\n",
      "conv2d_2 (Conv2D)            (None, 34, 34, 128)       73856     \n",
      "_________________________________________________________________\n",
      "max_pooling2d_2 (MaxPooling2 (None, 17, 17, 128)       0         \n",
      "_________________________________________________________________\n",
      "conv2d_3 (Conv2D)            (None, 15, 15, 128)       147584    \n",
      "_________________________________________________________________\n",
      "max_pooling2d_3 (MaxPooling2 (None, 7, 7, 128)         0         \n",
      "_________________________________________________________________\n",
      "flatten (Flatten)            (None, 6272)              0         \n",
      "_________________________________________________________________\n",
      "dropout (Dropout)            (None, 6272)              0         \n",
      "_________________________________________________________________\n",
      "dense (Dense)                (None, 256)               1605888   \n",
      "_________________________________________________________________\n",
      "dense_1 (Dense)              (None, 128)               32896     \n",
      "_________________________________________________________________\n",
      "dense_2 (Dense)              (None, 1)                 129       \n",
      "=================================================================\n",
      "Total params: 1,879,745\n",
      "Trainable params: 1,879,745\n",
      "Non-trainable params: 0\n",
      "_________________________________________________________________\n"
     ]
    }
   ],
   "source": [
    "model.summary()"
   ]
  },
  {
   "cell_type": "code",
   "execution_count": 12,
   "metadata": {},
   "outputs": [
    {
     "data": {
      "image/png": "[encoded data removed]",
      "text/plain": [
       "<Figure size 432x288 with 1 Axes>"
      ]
     },
     "metadata": {
      "needs_background": "light"
     },
     "output_type": "display_data"
    },
    {
     "data": {
      "image/png": "[encoded data removed]",
      "text/plain": [
       "<Figure size 432x288 with 1 Axes>"
      ]
     },
     "metadata": {
      "needs_background": "light"
     },
     "output_type": "display_data"
    }
   ],
   "source": [
    "#Plot graphs to deepen understanding\n",
    "\n",
    "acc = history.history['acc']\n",
    "val_acc = history.history['val_acc']\n",
    "loss = history.history['loss']\n",
    "val_loss = history.history['val_loss']\n",
    "\n",
    "epochs = range(len(acc))\n",
    "\n",
    "plt.plot(epochs,acc,'r',label='Training Accuracy')\n",
    "plt.plot(epochs,val_acc,'b',label='Validation Accuracy')\n",
    "plt.title('Training v/s Validation Accuracy')\n",
    "plt.figure()\n",
    "\n",
    "plt.plot(epochs,loss,'r',label='Training Loss')\n",
    "plt.plot(epochs,val_loss,'r',label='Validation Loss')\n",
    "plt.title('Training v/s Validation Loss')\n",
    "plt.legend()\n",
    "plt.show()"
   ]
  },
  {
   "cell_type": "code",
   "execution_count": null,
   "metadata": {},
   "outputs": [],
   "source": []
  }
 ],
 "metadata": {
  "kernelspec": {
   "display_name": "Python 3",
   "language": "python",
   "name": "python3"
  },
  "language_info": {
   "codemirror_mode": {
    "name": "ipython",
    "version": 3
   },
   "file_extension": ".py",
   "mimetype": "text/x-python",
   "name": "python",
   "nbconvert_exporter": "python",
   "pygments_lexer": "ipython3",
   "version": "3.7.6"
  }
 },
 "nbformat": 4,
 "nbformat_minor": 4
}
