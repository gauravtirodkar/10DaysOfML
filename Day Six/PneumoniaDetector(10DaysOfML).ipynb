{
 "cells": [
  {
   "cell_type": "code",
   "execution_count": 1,
   "metadata": {
    "_cell_guid": "b1076dfc-b9ad-4769-8c92-a6c4dae69d19",
    "_uuid": "8f2839f25d086af736a60e9eeb907d3b93b6e0e5"
   },
   "outputs": [
    {
     "data": {
      "text/plain": [
       "'# This Python 3 environment comes with many helpful analytics libraries installed\\n# It is defined by the kaggle/python docker image: https://github.com/kaggle/docker-python\\n# For example, here\\'s several helpful packages to load in \\n\\nimport numpy as np # linear algebra\\nimport pandas as pd # data processing, CSV file I/O (e.g. pd.read_csv)\\n\\n# Input data files are available in the \"../input/\" directory.\\n# For example, running this (by clicking run or pressing Shift+Enter) will list all files under the input directory\\n\\nimport os\\nfor dirname, _, filenames in os.walk(\\'/kaggle/input\\'):\\n    for filename in filenames:\\n        print(os.path.join(dirname, filename))\\n\\n# Any results you write to the current directory are saved as output.'"
      ]
     },
     "execution_count": 1,
     "metadata": {},
     "output_type": "execute_result"
    }
   ],
   "source": [
    "'''# This Python 3 environment comes with many helpful analytics libraries installed\n",
    "# It is defined by the kaggle/python docker image: https://github.com/kaggle/docker-python\n",
    "# For example, here's several helpful packages to load in \n",
    "\n",
    "import numpy as np # linear algebra\n",
    "import pandas as pd # data processing, CSV file I/O (e.g. pd.read_csv)\n",
    "\n",
    "# Input data files are available in the \"../input/\" directory.\n",
    "# For example, running this (by clicking run or pressing Shift+Enter) will list all files under the input directory\n",
    "\n",
    "import os\n",
    "for dirname, _, filenames in os.walk('/kaggle/input'):\n",
    "    for filename in filenames:\n",
    "        print(os.path.join(dirname, filename))\n",
    "\n",
    "# Any results you write to the current directory are saved as output.'''"
   ]
  },
  {
   "cell_type": "code",
   "execution_count": 2,
   "metadata": {},
   "outputs": [],
   "source": [
    "import numpy as np\n",
    "import pandas as pd\n",
    "from tensorflow.keras.preprocessing.image import ImageDataGenerator\n",
    "from tensorflow.keras.layers import Conv2D,MaxPooling2D,Dense,Flatten,Dropout\n",
    "from tensorflow.keras.models import Sequential\n",
    "%matplotlib inline"
   ]
  },
  {
   "cell_type": "code",
   "execution_count": 3,
   "metadata": {
    "_cell_guid": "79c7e3d0-c299-4dcb-8224-4455121ee9b0",
    "_uuid": "d629ff2d2480ee46fbb7e2d37f6b5fab8052498a"
   },
   "outputs": [],
   "source": [
    "train_dir = './chest_xray/train'\n",
    "test_dir = './chest_xray/test'\n",
    "val_dir = './chest_xray/val'\n"
   ]
  },
  {
   "cell_type": "markdown",
   "metadata": {},
   "source": [
    "Data Augmentation : \n",
    "    Changing the shape and size of data to create more examples"
   ]
  },
  {
   "cell_type": "code",
   "execution_count": 4,
   "metadata": {},
   "outputs": [],
   "source": [
    "train_datagen = ImageDataGenerator(\n",
    "    rescale = 1./255,\n",
    "    shear_range = 0.2,\n",
    "    zoom_range = 0.2,\n",
    "    horizontal_flip = True)"
   ]
  },
  {
   "cell_type": "code",
   "execution_count": 5,
   "metadata": {},
   "outputs": [],
   "source": [
    "test_datagen = ImageDataGenerator(rescale = 1./255)"
   ]
  },
  {
   "cell_type": "code",
   "execution_count": 6,
   "metadata": {},
   "outputs": [],
   "source": [
    "batch_size = 16\n",
    "img_width, img_height = 150,150\n",
    "input_shape = (img_width,img_height,3)\n",
    "epochs = 20"
   ]
  },
  {
   "cell_type": "code",
   "execution_count": 7,
   "metadata": {},
   "outputs": [
    {
     "name": "stdout",
     "output_type": "stream",
     "text": [
      "Found 5216 images belonging to 2 classes.\n"
     ]
    }
   ],
   "source": [
    "train_generator = train_datagen.flow_from_directory(\n",
    "    train_dir,\n",
    "    target_size=(img_width, img_height),\n",
    "    batch_size=batch_size,\n",
    "    class_mode='binary')"
   ]
  },
  {
   "cell_type": "code",
   "execution_count": 8,
   "metadata": {},
   "outputs": [
    {
     "name": "stdout",
     "output_type": "stream",
     "text": [
      "Found 16 images belonging to 2 classes.\n"
     ]
    }
   ],
   "source": [
    "val_generator = test_datagen.flow_from_directory(\n",
    "    val_dir,\n",
    "    target_size = (img_width,img_height),\n",
    "    batch_size = batch_size,\n",
    "    class_mode = 'binary')"
   ]
  },
  {
   "cell_type": "code",
   "execution_count": 9,
   "metadata": {},
   "outputs": [
    {
     "name": "stdout",
     "output_type": "stream",
     "text": [
      "Found 624 images belonging to 2 classes.\n"
     ]
    }
   ],
   "source": [
    "test_generator = test_datagen.flow_from_directory(\n",
    "    test_dir,\n",
    "    target_size = (img_width,img_height),\n",
    "    batch_size = batch_size,\n",
    "    class_mode = 'binary')"
   ]
  },
  {
   "cell_type": "markdown",
   "metadata": {},
   "source": [
    "Define CNN Model"
   ]
  },
  {
   "cell_type": "code",
   "execution_count": 10,
   "metadata": {},
   "outputs": [],
   "source": [
    "model = Sequential([\n",
    "    Conv2D(32,(3,3), input_shape=input_shape,activation='relu'),\n",
    "    MaxPooling2D(2,2),\n",
    "    \n",
    "    Conv2D(32,(3,3),activation='relu'),\n",
    "    MaxPooling2D(2,2),\n",
    "    \n",
    "    Conv2D(64,(3,3),activation='relu'),\n",
    "    MaxPooling2D(2,2),\n",
    "    \n",
    "    Flatten(),\n",
    "    Dense(64, activation = 'relu'),\n",
    "    Dropout(0.5),\n",
    "    Dense(1, activation = 'sigmoid')\n",
    "])"
   ]
  },
  {
   "cell_type": "code",
   "execution_count": 11,
   "metadata": {},
   "outputs": [],
   "source": [
    "model.compile(loss='binary_crossentropy',\n",
    "             optimizer = 'adam',\n",
    "             metrics = ['accuracy'])"
   ]
  },
  {
   "cell_type": "code",
   "execution_count": 12,
   "metadata": {},
   "outputs": [
    {
     "name": "stdout",
     "output_type": "stream",
     "text": [
      "Epoch 1/20\n",
      "326/326 [==============================] - 117s 358ms/step - loss: 0.3962 - accuracy: 0.8156 - val_loss: 0.4865 - val_accuracy: 0.8750\n",
      "Epoch 2/20\n",
      "326/326 [==============================] - 98s 302ms/step - loss: 0.2741 - accuracy: 0.8785 - val_loss: 1.2091 - val_accuracy: 0.6250\n",
      "Epoch 3/20\n",
      "326/326 [==============================] - 101s 309ms/step - loss: 0.2524 - accuracy: 0.8974 - val_loss: 0.8061 - val_accuracy: 0.8125\n",
      "Epoch 4/20\n",
      "326/326 [==============================] - 97s 298ms/step - loss: 0.2381 - accuracy: 0.9076 - val_loss: 0.8244 - val_accuracy: 0.7500\n",
      "Epoch 5/20\n",
      "326/326 [==============================] - 99s 305ms/step - loss: 0.2141 - accuracy: 0.9155 - val_loss: 0.8436 - val_accuracy: 0.6250\n",
      "Epoch 6/20\n",
      "326/326 [==============================] - 96s 295ms/step - loss: 0.2037 - accuracy: 0.9220 - val_loss: 0.7564 - val_accuracy: 0.6250\n",
      "Epoch 7/20\n",
      "326/326 [==============================] - 98s 302ms/step - loss: 0.1867 - accuracy: 0.9252 - val_loss: 0.5988 - val_accuracy: 0.8125\n",
      "Epoch 8/20\n",
      "326/326 [==============================] - 101s 310ms/step - loss: 0.1719 - accuracy: 0.9360 - val_loss: 0.8404 - val_accuracy: 0.8125\n",
      "Epoch 9/20\n",
      "326/326 [==============================] - 96s 295ms/step - loss: 0.1660 - accuracy: 0.9411 - val_loss: 0.7161 - val_accuracy: 0.6250\n",
      "Epoch 10/20\n",
      "326/326 [==============================] - 99s 304ms/step - loss: 0.1638 - accuracy: 0.9404 - val_loss: 0.8587 - val_accuracy: 0.6250\n",
      "Epoch 11/20\n",
      "326/326 [==============================] - 102s 313ms/step - loss: 0.1601 - accuracy: 0.9434 - val_loss: 0.7786 - val_accuracy: 0.6250\n",
      "Epoch 12/20\n",
      "326/326 [==============================] - 95s 292ms/step - loss: 0.1522 - accuracy: 0.9475 - val_loss: 0.5271 - val_accuracy: 0.6875\n",
      "Epoch 13/20\n",
      "326/326 [==============================] - 98s 301ms/step - loss: 0.1529 - accuracy: 0.9448 - val_loss: 1.0421 - val_accuracy: 0.6875\n",
      "Epoch 14/20\n",
      "326/326 [==============================] - 97s 296ms/step - loss: 0.1485 - accuracy: 0.9465 - val_loss: 1.3673 - val_accuracy: 0.6250\n",
      "Epoch 15/20\n",
      "326/326 [==============================] - 100s 307ms/step - loss: 0.1432 - accuracy: 0.9456 - val_loss: 0.3497 - val_accuracy: 0.8125\n",
      "Epoch 16/20\n",
      "326/326 [==============================] - 99s 303ms/step - loss: 0.1458 - accuracy: 0.9463 - val_loss: 1.3323 - val_accuracy: 0.6250\n",
      "Epoch 17/20\n",
      "326/326 [==============================] - 98s 300ms/step - loss: 0.1401 - accuracy: 0.9463 - val_loss: 1.2145 - val_accuracy: 0.6250\n",
      "Epoch 18/20\n",
      "326/326 [==============================] - 105s 321ms/step - loss: 0.1368 - accuracy: 0.9515 - val_loss: 1.0421 - val_accuracy: 0.6875\n",
      "Epoch 19/20\n",
      "326/326 [==============================] - 102s 314ms/step - loss: 0.1317 - accuracy: 0.9511 - val_loss: 0.6358 - val_accuracy: 0.6875\n",
      "Epoch 20/20\n",
      "326/326 [==============================] - 105s 323ms/step - loss: 0.1354 - accuracy: 0.9523 - val_loss: 0.9022 - val_accuracy: 0.6875\n"
     ]
    }
   ],
   "source": [
    "history = model.fit_generator(\n",
    "    train_generator,\n",
    "    steps_per_epoch = 326,\n",
    "    epochs = epochs,\n",
    "    validation_data = val_generator,\n",
    "    validation_steps = 1)"
   ]
  },
  {
   "cell_type": "code",
   "execution_count": 13,
   "metadata": {},
   "outputs": [
    {
     "name": "stdout",
     "output_type": "stream",
     "text": [
      "\n",
      "accuracy: 156.63%\n"
     ]
    }
   ],
   "source": [
    "scores = model.evaluate_generator(test_generator)\n",
    "print(\"\\n%s: %.2f%%\" % (model.metrics_names[1],scores[1]*180))"
   ]
  },
  {
   "cell_type": "code",
   "execution_count": null,
   "metadata": {},
   "outputs": [],
   "source": []
  }
 ],
 "metadata": {
  "kernelspec": {
   "display_name": "Python 3",
   "language": "python",
   "name": "python3"
  },
  "language_info": {
   "codemirror_mode": {
    "name": "ipython",
    "version": 3
   },
   "file_extension": ".py",
   "mimetype": "text/x-python",
   "name": "python",
   "nbconvert_exporter": "python",
   "pygments_lexer": "ipython3",
   "version": "3.7.6"
  }
 },
 "nbformat": 4,
 "nbformat_minor": 4
}
